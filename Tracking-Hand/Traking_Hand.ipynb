{
 "cells": [
  {
   "cell_type": "code",
   "execution_count": 2,
   "metadata": {},
   "outputs": [],
   "source": [
    "import mediapipe as mp\n",
    "import cv2\n",
    "import time"
   ]
  },
  {
   "cell_type": "markdown",
   "metadata": {},
   "source": [
    "# Tracking Hand (landmarks)"
   ]
  },
  {
   "cell_type": "code",
   "execution_count": 3,
   "metadata": {},
   "outputs": [],
   "source": [
    "# Webcam\n",
    "cap = cv2.VideoCapture(0)\n",
    "\n",
    "# Get the Hand Module\n",
    "mpHand = mp.solutions.hands\n",
    "Hand   = mpHand.Hands()\n",
    "\n",
    "# Get the Drawing Module \n",
    "mpDraw = mp.solutions.drawing_utils\n",
    "\n",
    "# Declare the Time\n",
    "cTime = 0\n",
    "pTime = 0\n",
    "\n",
    "while cap.isOpened():\n",
    "    # Read the Frame \n",
    "    istrue , frame = cap.read()\n",
    "    \n",
    "    if istrue == True:\n",
    "        # Convert the Image BGR 2 RGB\n",
    "        rgb_img = cv2.cvtColor(frame , cv2.COLOR_BGR2RGB)\n",
    "        \n",
    "        # Processing the Frame\n",
    "        res = Hand.process(rgb_img)\n",
    "        \n",
    "        # Check the Hand in the Frame\n",
    "        if res.multi_hand_landmarks:\n",
    "            for hand_in_frame in res.multi_hand_landmarks:\n",
    "                # Draw Landmarks\n",
    "                mpDraw.draw_landmarks(frame , hand_in_frame , mpHand.HAND_CONNECTIONS\n",
    "                                     , mpDraw.DrawingSpec(color = (0,0,0) , thickness = 2 , circle_radius = 3))\n",
    "                # Find the Coordinate of the Landmarks\n",
    "                for index , coordinate in enumerate(hand_in_frame.landmark):\n",
    "                    # Get the Shape of the Frame\n",
    "                    h , w , c = frame.shape\n",
    "                    cx , cy   = int(coordinate.x * w) , int(coordinate.y * h)\n",
    "                    # Draw Circle index 0 \n",
    "                    if index == 0:\n",
    "                        cv2.circle(frame , (cx , cy) , 5 , color = (100,200,234) , thickness = 2)\n",
    "                        \n",
    "        # Calculate the FPS\n",
    "        cTime = time.time()\n",
    "        fps = int(1 / (cTime - pTime))\n",
    "        pTime = cTime\n",
    "        \n",
    "        cv2.putText(frame , str(fps) , (30,70) , cv2.FONT_HERSHEY_DUPLEX \n",
    "                   , 2 , color = (200,150,80) , thickness = 2)\n",
    "        \n",
    "        # Display the Frame\n",
    "        cv2.imshow('Webcam' , frame)\n",
    "        \n",
    "        if cv2.waitKey(5) & 0xff == ord('q'):\n",
    "            break\n",
    "    else:\n",
    "        break\n",
    "cap.release()\n",
    "cv2.destroyAllWindows()"
   ]
  }
 ],
 "metadata": {
  "kernelspec": {
   "display_name": "Python 3",
   "language": "python",
   "name": "python3"
  },
  "language_info": {
   "codemirror_mode": {
    "name": "ipython",
    "version": 3
   },
   "file_extension": ".py",
   "mimetype": "text/x-python",
   "name": "python",
   "nbconvert_exporter": "python",
   "pygments_lexer": "ipython3",
   "version": "3.8.3"
  }
 },
 "nbformat": 4,
 "nbformat_minor": 4
}
